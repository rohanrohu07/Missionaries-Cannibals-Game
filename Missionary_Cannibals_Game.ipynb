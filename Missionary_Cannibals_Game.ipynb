{
  "nbformat": 4,
  "nbformat_minor": 0,
  "metadata": {
    "colab": {
      "provenance": []
    },
    "kernelspec": {
      "name": "python3",
      "display_name": "Python 3"
    },
    "language_info": {
      "name": "python"
    }
  },
  "cells": [
    {
      "cell_type": "code",
      "execution_count": 69,
      "metadata": {
        "colab": {
          "base_uri": "https://localhost:8080/"
        },
        "id": "ZmJ33Qf9E11m",
        "outputId": "4932c1f9-19b3-473f-8935-b18bc4252682"
      },
      "outputs": [
        {
          "name": "stdout",
          "output_type": "stream",
          "text": [
            "*******Welcome to The Missionary 💂 Cannibals 👹 Game*******\n",
            "            \n",
            "----3 missionaries💂 3 cannibals👹 crossing the river game----\n",
            "                   1.Play Game\n",
            "                   2.Rules\n",
            "                   3.Quit\n",
            "\n",
            "Enter Your Choice : 1\n",
            "\n",
            "🌊🌊🌊 🚢 💂💂💂 👹👹👹\n",
            "Enter the Number Of Missionaries 💂 (If You Want to Quit just press q) : q\n",
            "Enter the Number of Cannibals 👹 (If You Want to Quit just press q) : \n",
            "*******Welcome to The Missionary 💂 Cannibals 👹 Game*******\n",
            "            \n",
            "----3 missionaries💂 3 cannibals👹 crossing the river game----\n",
            "                   1.Play Game\n",
            "                   2.Rules\n",
            "                   3.Quit\n",
            "\n",
            "Enter Your Choice : 3\n"
          ]
        }
      ],
      "source": [
        "\n",
        "boat_side = 'Right'\n",
        "missionaries_on_right = 3\n",
        "cannibals_on_right = 3\n",
        "missionaries_on_left = 0\n",
        "cannibals_on_left = 0\n",
        "\n",
        "\n",
        "\n",
        "Rules='''\\nRules:\\n1. Only 1 or 2 people are permitted on the boat to travel\n",
        "2. We cannot select anymore missionaries or cannibals on the boat than the available number of missionaries or cannibals on either side.\n",
        "3. You lose if the number of cannibals exceeds the number of missionaries on either side.\n",
        "4. You win if you successfully transfer all the missionaries and cannibals from right side to left side.\n",
        "'''\n",
        "\n",
        "while True:\n",
        "  print('''*******Welcome to The Missionary \\U0001f482 Cannibals \\U0001f479 Game*******\n",
        "            \\n----3 missionaries\\U0001f482 3 cannibals\\U0001f479 crossing the river game----\n",
        "                   1.Play Game\n",
        "                   2.Rules\n",
        "                   3.Quit''')\n",
        "  choice = input('\\nEnter Your Choice : ')\n",
        "  \n",
        "  \n",
        "  if choice == '1':\n",
        "    print('\\n' + '\\U0001f30a'*3, '\\U0001f6A2', '\\U0001f482'*3, '\\U0001f479'*3)\n",
        "    while True:\n",
        "\n",
        "      try:\n",
        "          missionaries = input('Enter the Number Of Missionaries \\U0001f482 (If You Want to Quit just press q) : ')\n",
        "          cannibals = input('Enter the Number of Cannibals \\U0001f479 (If You Want to Quit just press q) : ')\n",
        "          if missionaries == 'q' or cannibals == 'q':\n",
        "            break\n",
        "          \n",
        "          missionaries=int(missionaries)\n",
        "          cannibals=int(cannibals)\n",
        "\n",
        "      except ValueError as e:\n",
        "          print('Please Enter a Integers Only')\n",
        "          continue\n",
        "\n",
        "      if (missionaries + cannibals == 1) or (missionaries + cannibals == 2):\n",
        "          if (boat_side == 'Right' and missionaries > missionaries_on_right) or (boat_side == 'Left' and missionaries > missionaries_on_left):\n",
        "              print('Invalid Move: Not enough Missionaries on this side')\n",
        "              continue\n",
        "          elif (boat_side == 'Right' and cannibals > cannibals_on_right) or (boat_side == 'Left' and cannibals > cannibals_on_left):\n",
        "              print('Invalid Move: Not enough Cannibals on this side')\n",
        "              continue\n",
        "          else:\n",
        "              print('Valid Move')\n",
        "      else:\n",
        "          print('Invalid Move: Maximum 2 people can be on the boat at a time')\n",
        "          continue\n",
        "\n",
        "      if boat_side == 'Right':\n",
        "          missionaries_on_right -= missionaries\n",
        "          missionaries_on_left += missionaries\n",
        "          cannibals_on_right -= cannibals\n",
        "          cannibals_on_left += cannibals\n",
        "          boat_side = 'Left'\n",
        "      else:\n",
        "          missionaries_on_right += missionaries\n",
        "          missionaries_on_left -= missionaries\n",
        "          cannibals_on_right += cannibals\n",
        "          cannibals_on_left -= cannibals\n",
        "          boat_side = 'Right'\n",
        "\n",
        "      print('\\U0001f482'*missionaries_on_left, '\\U0001f479'*cannibals_on_left, '\\U0001f30a'*3, '\\U0001f6A2', '\\U0001f482'*missionaries_on_right, '\\U0001f479'*cannibals_on_right)\n",
        "\n",
        "      if (missionaries_on_right < cannibals_on_right and missionaries_on_right > 0) or (missionaries_on_left < cannibals_on_left and missionaries_on_left > 0):\n",
        "          print('YOU LOSE')\n",
        "          break\n",
        "\n",
        "      if missionaries_on_left == 3 and cannibals_on_left == 3:\n",
        "          print('YOU WIN')\n",
        "          break\n",
        "  elif choice == '2':\n",
        "    print(Rules)\n",
        "\n",
        "  elif choice == '3':\n",
        "    break\n"
      ]
    },
    {
      "cell_type": "code",
      "source": [],
      "metadata": {
        "id": "QI0F0kKfhJCz"
      },
      "execution_count": null,
      "outputs": []
    }
  ]
}